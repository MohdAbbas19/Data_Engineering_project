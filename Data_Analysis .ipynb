{
 "cells": [
  {
   "cell_type": "code",
   "execution_count": null,
   "id": "724afc02",
   "metadata": {},
   "outputs": [],
   "source": [
    "import pandas as pd\n",
    "import nltk\n",
    "nltk.download('vader_lexicon')\n",
    "from textstat import flesch_kincaid_grade, syllable_count\n",
    "from nltk.sentiment import SentimentIntensityAnalyzer\n",
    "import re\n",
    "\n",
    "output_df = pd.read_excel('Output_Data_Structure.xlsx')\n",
    "\n",
    "def compute_variables(text):\n",
    "    \n",
    "    sentences = nltk.sent_tokenize(text)\n",
    "    words = nltk.word_tokenize(text)\n",
    "    \n",
    "\n",
    "    sia = SentimentIntensityAnalyzer()\n",
    "    sentiment_scores = sia.polarity_scores(text)\n",
    "    positive_score = sentiment_scores['pos']\n",
    "    negative_score = sentiment_scores['neg']\n",
    "    polarity_score = sentiment_scores['compound']\n",
    "    subjectivity_score = sentiment_scores['compound'] \n",
    "    \n",
    "    avg_sentence_length = sum(len(sent.split()) for sent in sentences) / len(sentences) if len(sentences) > 0 else 0\n",
    "    \n",
    "    num_complex_words = sum(1 for word in words if syllable_count(word) > 2)\n",
    "    percentage_complex_words = (num_complex_words / len(words)) * 100 if len(words) > 0 else 0\n",
    "    \n",
    "    fog_index = 0.4 * (avg_sentence_length + percentage_complex_words)\n",
    "    \n",
    "    avg_words_per_sentence = len(words) / len(sentences) if len(sentences) > 0 else 0\n",
    "    \n",
    "    complex_word_count = num_complex_words\n",
    "    \n",
    "    word_count = len(words)\n",
    "    \n",
    "    syllable_per_word = sum(syllable_count(word) for word in words) / len(words) if len(words) > 0 else 0\n",
    "   \n",
    "    personal_pronouns = ['i', 'me', 'my', 'mine', 'we', 'us', 'our', 'ours']\n",
    "    personal_pronoun_count = sum(1 for word in words if word.lower() in personal_pronouns)\n",
    "    \n",
    "    avg_word_length = sum(len(word) for word in words) / len(words) if len(words) > 0 else 0\n",
    "    \n",
    "    return [positive_score, negative_score, polarity_score, subjectivity_score,\n",
    "            avg_sentence_length, percentage_complex_words, fog_index, avg_words_per_sentence,\n",
    "            complex_word_count, word_count, syllable_per_word, personal_pronoun_count, avg_word_length]\n",
    "\n",
    "output_df[['POSITIVE SCORE', 'NEGATIVE SCORE', 'POLARITY SCORE', 'SUBJECTIVITY SCORE',\n",
    "           'AVG SENTENCE LENGTH', 'PERCENTAGE OF COMPLEX WORDS', 'FOG INDEX',\n",
    "           'AVG NUMBER OF WORDS PER SENTENCE', 'COMPLEX WORD COUNT', 'WORD COUNT',\n",
    "           'SYLLABLE PER WORD', 'PERSONAL PRONOUNS', 'AVG WORD LENGTH']] = output_df['ARTICLE TEXT'].apply(compute_variables).apply(pd.Series)\n",
    "output_df.drop(['URL_ID', 'Title', 'Article_Text'], axis=1, inplace=True)\n",
    "print(output_df)\n",
    "output_df.to_csv('Output.csv', index=False)\n"
   ]
  }
 ],
 "metadata": {
  "kernelspec": {
   "display_name": "Python 3 (ipykernel)",
   "language": "python",
   "name": "python3"
  },
  "language_info": {
   "codemirror_mode": {
    "name": "ipython",
    "version": 3
   },
   "file_extension": ".py",
   "mimetype": "text/x-python",
   "name": "python",
   "nbconvert_exporter": "python",
   "pygments_lexer": "ipython3",
   "version": "3.10.9"
  }
 },
 "nbformat": 4,
 "nbformat_minor": 5
}
