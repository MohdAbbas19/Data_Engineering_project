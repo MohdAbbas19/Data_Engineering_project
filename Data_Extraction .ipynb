{
 "cells": [
  {
   "cell_type": "code",
   "execution_count": null,
   "id": "2a1064ec",
   "metadata": {},
   "outputs": [],
   "source": [
    "import pandas as pd\n",
    "import requests\n",
    "from bs4 import BeautifulSoup\n",
    "\n",
    "\n",
    "def extract_article_text(url):\n",
    "    try:\n",
    "      \n",
    "        response = requests.get(url)\n",
    "        soup = BeautifulSoup(response.content, 'html.parser')\n",
    "        title = soup.find('title').get_text().strip()\n",
    "        article_text = ''\n",
    "        for paragraph in soup.find_all('p'):\n",
    "            article_text += paragraph.get_text().strip() + '\\n'\n",
    "        \n",
    "        return title, article_text\n",
    "    except Exception as e:\n",
    "        print(f\"Error extracting article from {url}: {e}\")\n",
    "        return None, None\n",
    "\n",
    "df = pd.read_excel(\"Input.xlsx\")\n",
    "article_df = pd.DataFrame(columns=['URL_ID', 'Title', 'Article_Text'])\n",
    "for index, row in df.iterrows():\n",
    "    url_id = row['URL_ID']\n",
    "    url = row['URL']\n",
    "    \n",
    "    title, article_text = extract_article_text(url)\n",
    "    \n",
    "    if article_text:\n",
    "        article_df = article_df.append({'URL ID': url_id,'URL':url, 'TITLE': title, 'ARTICLE TEXT': article_text}, ignore_index=True)\n",
    "\n",
    "article_df.to_excel(\"Output_Data_Structure.xlsx\", index=False)\n",
    "article_df"
   ]
  }
 ],
 "metadata": {
  "kernelspec": {
   "display_name": "Python 3 (ipykernel)",
   "language": "python",
   "name": "python3"
  },
  "language_info": {
   "codemirror_mode": {
    "name": "ipython",
    "version": 3
   },
   "file_extension": ".py",
   "mimetype": "text/x-python",
   "name": "python",
   "nbconvert_exporter": "python",
   "pygments_lexer": "ipython3",
   "version": "3.10.9"
  }
 },
 "nbformat": 4,
 "nbformat_minor": 5
}
